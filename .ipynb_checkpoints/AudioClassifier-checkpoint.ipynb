{
 "cells": [
  {
   "cell_type": "code",
   "execution_count": 44,
   "id": "0bad5bca",
   "metadata": {},
   "outputs": [],
   "source": [
    "import librosa\n",
    "import numpy as np\n",
    "import matplotlib.pyplot as plt\n",
    "from pydub import AudioSegment"
   ]
  },
  {
   "cell_type": "code",
   "execution_count": 45,
   "id": "9cbe3f92",
   "metadata": {},
   "outputs": [],
   "source": [
    "def eucl_dist(vec1, vec2):\n",
    "    minn_length = min(vec1.shape[1], vec2.shape[1])\n",
    "    if vec1.shape[1] < vec2.shape[1]: \n",
    "        vec2 = vec2[:,:minn_length]\n",
    "    else: \n",
    "        vec1 = vec1[:,:minn_length]\n",
    "    return np.linalg.norm(vec1-vec2)\n",
    "\n",
    "def cosine_sim(vec1,vec2):\n",
    "    minn_length = min(vec1.shape[1], vec2.shape[1])\n",
    "    if vec1.shape[1] < vec2.shape[1]: \n",
    "        vec2 = vec2[:,:minn_length]\n",
    "    else: \n",
    "        vec1 = vec1[:,:minn_length]\n",
    "    vec1 = vec1.flatten()\n",
    "    vec2 = vec2.flatten()\n",
    "    cs_sim = np.dot(vec1,vec2)/(np.linalg.norm(vec1)*np.linalg.norm(vec2))\n",
    "    return cs_sim"
   ]
  },
  {
   "cell_type": "code",
   "execution_count": 46,
   "id": "b1feac6b",
   "metadata": {},
   "outputs": [],
   "source": [
    "# PROPERTY OF DEEPMIND1234\n",
    "def extract_features(file_path):\n",
    "    # Load the audio file\n",
    "    y, sr = librosa.load(file_path, sr=22050)\n",
    "\n",
    "    # Extract the MFCC features\n",
    "    mfcc = librosa.feature.mfcc(y=y, sr=sr, n_mfcc=13)\n",
    "\n",
    "    # Extract the chroma features\n",
    "    chroma = librosa.feature.chroma_cqt(y=y, sr=sr)\n",
    "\n",
    "    # Extract the spectral contrast features\n",
    "    contrast = librosa.feature.spectral_contrast(y=y, sr=sr)\n",
    "    \n",
    "    spectral_centroid = librosa.feature.spectral_centroid(y=y, sr=sr)\n",
    "    zero_crossing_rate = librosa.feature.zero_crossing_rate(y)\n",
    "    spec_bandwidth = librosa.feature.spectral_bandwidth(y=y, sr=sr)\n",
    "    \n",
    "    # Concatenate the features into a single array\n",
    "    #features = np.concatenate([mfcc, chroma, contrast, spectral_centroid, zero_crossing_rate], axis=0)\n",
    "    features = np.concatenate([mfcc,chroma,contrast,spectral_centroid,zero_crossing_rate, spec_bandwidth], axis=0)\n",
    "\n",
    "    return features"
   ]
  },
  {
   "cell_type": "code",
   "execution_count": 47,
   "id": "ffce2762",
   "metadata": {},
   "outputs": [],
   "source": [
    "features_d = extract_features('media/deepak_test_1.wav')\n",
    "features_a = extract_features('media/aadarsh_test_1.wav')\n",
    "features_s = extract_features('media/sean_test_1.wav')\n",
    "features_ta = extract_features('media/test_vector.wav')"
   ]
  },
  {
   "cell_type": "code",
   "execution_count": 48,
   "id": "f40ce85c",
   "metadata": {},
   "outputs": [
    {
     "name": "stdout",
     "output_type": "stream",
     "text": [
      "12053.565439607575\n",
      "14103.502609334624\n",
      "16035.969697392145\n"
     ]
    }
   ],
   "source": [
    "print(eucl_dist(features_d, features_a))\n",
    "print(eucl_dist(features_d, features_s))\n",
    "print(eucl_dist(features_s, features_a))"
   ]
  },
  {
   "cell_type": "code",
   "execution_count": 49,
   "id": "34c96551",
   "metadata": {},
   "outputs": [
    {
     "name": "stdout",
     "output_type": "stream",
     "text": [
      "18596.916229174458\n",
      "19356.916498702696\n",
      "23659.574096291326\n"
     ]
    }
   ],
   "source": [
    "print(eucl_dist(features_d, features_ta))\n",
    "print(eucl_dist(features_a, features_ta))\n",
    "print(eucl_dist(features_s, features_ta))"
   ]
  },
  {
   "cell_type": "code",
   "execution_count": 50,
   "id": "34f59f5e",
   "metadata": {},
   "outputs": [],
   "source": [
    "def NearestNeighbour(test_features,voice_set):\n",
    "    f_min = 10e20\n",
    "    similar = None\n",
    "    for key,value in voice_set.items():\n",
    "        cur_min = eucl_dist(test_features,value)\n",
    "        #cur_min = cosine_sim(test_features,value)\n",
    "        print(str(key) + \":\"+ str(cur_min))\n",
    "        if cur_min < f_min:\n",
    "            f_min = cur_min\n",
    "            similar = key\n",
    "    return similar"
   ]
  },
  {
   "cell_type": "code",
   "execution_count": 51,
   "id": "7ce1a612",
   "metadata": {},
   "outputs": [],
   "source": [
    "feature_dict = {\"deepak\":features_d,\"aadarsh\":features_a,\"sean\":features_s,\"TA\":features_ta}"
   ]
  },
  {
   "cell_type": "code",
   "execution_count": 55,
   "id": "525abaa2",
   "metadata": {},
   "outputs": [
    {
     "name": "stdout",
     "output_type": "stream",
     "text": [
      "deepak:24316.4523758576\n",
      "aadarsh:21842.77581350192\n",
      "sean:24534.705424865075\n",
      "TA:24019.941095867864\n",
      "aadarsh\n"
     ]
    }
   ],
   "source": [
    "feature_d_new = extract_features('media/deepak_inference.wav')\n",
    "print(NearestNeighbour(feature_d_new, feature_dict))"
   ]
  },
  {
   "cell_type": "code",
   "execution_count": 53,
   "id": "b72853d7",
   "metadata": {},
   "outputs": [
    {
     "name": "stdout",
     "output_type": "stream",
     "text": [
      "deepak:24706.525365361664\n",
      "aadarsh:21631.604161588373\n",
      "sean:28138.97313845313\n",
      "TA:25688.89313801095\n",
      "aadarsh\n"
     ]
    }
   ],
   "source": [
    "feature_a_new = extract_features('media/aadarsh_inference.wav')\n",
    "print(NearestNeighbour(feature_a_new, feature_dict))"
   ]
  },
  {
   "cell_type": "code",
   "execution_count": 1,
   "id": "8543fa4a",
   "metadata": {},
   "outputs": [
    {
     "ename": "NameError",
     "evalue": "name 'r' is not defined",
     "output_type": "error",
     "traceback": [
      "\u001b[1;31m---------------------------------------------------------------------------\u001b[0m",
      "\u001b[1;31mNameError\u001b[0m                                 Traceback (most recent call last)",
      "\u001b[1;32m~\\AppData\\Local\\Temp/ipykernel_5652/2776164663.py\u001b[0m in \u001b[0;36m<module>\u001b[1;34m\u001b[0m\n\u001b[0;32m      2\u001b[0m \u001b[0mfile_path\u001b[0m \u001b[1;33m=\u001b[0m \u001b[1;34m'media/deepak_test_1.wav'\u001b[0m\u001b[1;33m\u001b[0m\u001b[1;33m\u001b[0m\u001b[0m\n\u001b[0;32m      3\u001b[0m \u001b[1;32mwith\u001b[0m \u001b[0msr\u001b[0m\u001b[1;33m.\u001b[0m\u001b[0mAudioFile\u001b[0m\u001b[1;33m(\u001b[0m\u001b[0mfile_path\u001b[0m\u001b[1;33m)\u001b[0m \u001b[1;32mas\u001b[0m \u001b[0msource\u001b[0m\u001b[1;33m:\u001b[0m\u001b[1;33m\u001b[0m\u001b[1;33m\u001b[0m\u001b[0m\n\u001b[1;32m----> 4\u001b[1;33m     \u001b[0maudio\u001b[0m \u001b[1;33m=\u001b[0m \u001b[0mr\u001b[0m\u001b[1;33m.\u001b[0m\u001b[0mrecord\u001b[0m\u001b[1;33m(\u001b[0m\u001b[0msource\u001b[0m\u001b[1;33m)\u001b[0m\u001b[1;33m\u001b[0m\u001b[1;33m\u001b[0m\u001b[0m\n\u001b[0m\u001b[0;32m      5\u001b[0m \u001b[1;32mtry\u001b[0m\u001b[1;33m:\u001b[0m\u001b[1;33m\u001b[0m\u001b[1;33m\u001b[0m\u001b[0m\n\u001b[0;32m      6\u001b[0m     \u001b[0mprint\u001b[0m\u001b[1;33m(\u001b[0m\u001b[1;34m\"Google Speech Recognition thinks you said \"\u001b[0m \u001b[1;33m+\u001b[0m \u001b[0mr\u001b[0m\u001b[1;33m.\u001b[0m\u001b[0mrecognize_google\u001b[0m\u001b[1;33m(\u001b[0m\u001b[0maudio\u001b[0m\u001b[1;33m)\u001b[0m\u001b[1;33m)\u001b[0m\u001b[1;33m\u001b[0m\u001b[1;33m\u001b[0m\u001b[0m\n",
      "\u001b[1;31mNameError\u001b[0m: name 'r' is not defined"
     ]
    }
   ],
   "source": [
    "import speech_recognition as sr\n",
    "file_path = 'media/deepak_test_1.wav'\n",
    "r = sr.Recognizer()\n",
    "with sr.AudioFile(file_path) as source:\n",
    "    audio = r.record(source)\n",
    "try:\n",
    "    print(\"Google Speech Recognition thinks you said \" + r.recognize_google(audio))\n",
    "except sr.UnknownValueError:\n",
    "    print(\"Google Speech Recognition could not understand audio\")\n",
    "except sr.RequestError as e:\n",
    "    print(\"Could not request results from Google Speech Recognition service; {0}\".format(e))"
   ]
  },
  {
   "cell_type": "code",
   "execution_count": null,
   "id": "5c979715",
   "metadata": {},
   "outputs": [],
   "source": []
  }
 ],
 "metadata": {
  "kernelspec": {
   "display_name": "Python 3 (ipykernel)",
   "language": "python",
   "name": "python3"
  },
  "language_info": {
   "codemirror_mode": {
    "name": "ipython",
    "version": 3
   },
   "file_extension": ".py",
   "mimetype": "text/x-python",
   "name": "python",
   "nbconvert_exporter": "python",
   "pygments_lexer": "ipython3",
   "version": "3.9.7"
  }
 },
 "nbformat": 4,
 "nbformat_minor": 5
}
