{
 "cells": [
  {
   "cell_type": "code",
   "execution_count": 1,
   "id": "0bad5bca",
   "metadata": {},
   "outputs": [
    {
     "name": "stderr",
     "output_type": "stream",
     "text": [
      "C:\\Users\\deepa\\anaconda3\\lib\\site-packages\\pydub\\utils.py:170: RuntimeWarning: Couldn't find ffmpeg or avconv - defaulting to ffmpeg, but may not work\n",
      "  warn(\"Couldn't find ffmpeg or avconv - defaulting to ffmpeg, but may not work\", RuntimeWarning)\n"
     ]
    }
   ],
   "source": [
    "import librosa\n",
    "import numpy as np\n",
    "import matplotlib.pyplot as plt\n",
    "from pydub import AudioSegment"
   ]
  },
  {
   "cell_type": "code",
   "execution_count": 2,
   "id": "9cbe3f92",
   "metadata": {},
   "outputs": [],
   "source": [
    "def eucl_dist(vec1, vec2):\n",
    "    minn_length = min(vec1.shape[1], vec2.shape[1])\n",
    "    if vec1.shape[1] < vec2.shape[1]: \n",
    "        vec2 = vec2[:,:minn_length]\n",
    "    else: \n",
    "        vec1 = vec1[:,:minn_length]\n",
    "    return np.linalg.norm(vec1-vec2)"
   ]
  },
  {
   "cell_type": "code",
   "execution_count": 13,
   "id": "b1feac6b",
   "metadata": {},
   "outputs": [],
   "source": [
    "# PROPERTY OF DEEPMIND1234\n",
    "def extract_features(file_path):\n",
    "    # Load the audio file\n",
    "    y, sr = librosa.load(file_path, sr=22050)\n",
    "\n",
    "    # Extract the MFCC features\n",
    "    mfcc = librosa.feature.mfcc(y=y, sr=sr, n_mfcc=13)\n",
    "\n",
    "    # Extract the chroma features\n",
    "    chroma = librosa.feature.chroma_cqt(y=y, sr=sr)\n",
    "\n",
    "    # Extract the spectral contrast features\n",
    "    contrast = librosa.feature.spectral_contrast(y=y, sr=sr)\n",
    "    \n",
    "    spectral_centroid = librosa.feature.spectral_centroid(y=y, sr=sr)\n",
    "    zero_crossing_rate = librosa.feature.zero_crossing_rate(y)\n",
    "\n",
    "    # Concatenate the features into a single array\n",
    "    features = np.concatenate([mfcc, chroma, contrast, spectral_centroid, zero_crossing_rate], axis=0)\n",
    "\n",
    "    return features"
   ]
  },
  {
   "cell_type": "code",
   "execution_count": 14,
   "id": "ffce2762",
   "metadata": {},
   "outputs": [],
   "source": [
    "features_d = extract_features('media/deepak_test_1.wav')\n",
    "features_a = extract_features('media/aadarsh_test_1.wav')\n",
    "features_s = extract_features('media/sean_test_1.wav')\n",
    "features_ta = extract_features('media/test_vector.wav')"
   ]
  },
  {
   "cell_type": "code",
   "execution_count": 15,
   "id": "f40ce85c",
   "metadata": {},
   "outputs": [
    {
     "name": "stdout",
     "output_type": "stream",
     "text": [
      "10486.538379977239\n",
      "12928.7697877973\n",
      "14892.044959115241\n"
     ]
    }
   ],
   "source": [
    "print(eucl_dist(features_d, features_a))\n",
    "print(eucl_dist(features_d, features_s))\n",
    "print(eucl_dist(features_s, features_a))"
   ]
  },
  {
   "cell_type": "code",
   "execution_count": 16,
   "id": "34c96551",
   "metadata": {},
   "outputs": [
    {
     "name": "stdout",
     "output_type": "stream",
     "text": [
      "16792.012428447484\n",
      "17102.959813213223\n",
      "21862.665378129223\n"
     ]
    }
   ],
   "source": [
    "print(eucl_dist(features_d, features_ta))\n",
    "print(eucl_dist(features_a, features_ta))\n",
    "print(eucl_dist(features_s, features_ta))"
   ]
  },
  {
   "cell_type": "code",
   "execution_count": 17,
   "id": "34f59f5e",
   "metadata": {},
   "outputs": [
    {
     "name": "stdout",
     "output_type": "stream",
     "text": [
      "deepak:21169.52388607438\n",
      "aadarsh:19125.634532576056\n",
      "sean:25665.735956872362\n",
      "TA:22200.584062091377\n",
      "aadarsh\n"
     ]
    }
   ],
   "source": [
    "feature_a_new = extract_features('media/aadarsh_inference.wav')\n",
    "feature_dict = {\"deepak\":features_d,\"aadarsh\":features_a,\"sean\":features_s,\"TA\":features_ta}\n",
    "\n",
    "def NearestNeighbour(test_features,voice_set):\n",
    "    f_min = 10e20\n",
    "    similar = None\n",
    "    for key,value in voice_set.items():\n",
    "        cur_min = eucl_dist(test_features,value)\n",
    "        print(str(key) + \":\"+ str(cur_min))\n",
    "        if cur_min < f_min:\n",
    "            f_min = cur_min\n",
    "            similar = key\n",
    "    return similar\n",
    "\n",
    "x = NearestNeighbour(feature_a_new,feature_dict)\n",
    "print(x)        \n",
    "    "
   ]
  },
  {
   "cell_type": "code",
   "execution_count": null,
   "id": "fa0847e4",
   "metadata": {},
   "outputs": [],
   "source": []
  },
  {
   "cell_type": "code",
   "execution_count": null,
   "id": "89988493",
   "metadata": {},
   "outputs": [],
   "source": []
  }
 ],
 "metadata": {
  "kernelspec": {
   "display_name": "Python 3 (ipykernel)",
   "language": "python",
   "name": "python3"
  },
  "language_info": {
   "codemirror_mode": {
    "name": "ipython",
    "version": 3
   },
   "file_extension": ".py",
   "mimetype": "text/x-python",
   "name": "python",
   "nbconvert_exporter": "python",
   "pygments_lexer": "ipython3",
   "version": "3.9.7"
  }
 },
 "nbformat": 4,
 "nbformat_minor": 5
}
