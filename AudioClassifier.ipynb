{
 "cells": [
  {
   "cell_type": "code",
   "execution_count": 4,
   "id": "0bad5bca",
   "metadata": {},
   "outputs": [
    {
     "name": "stderr",
     "output_type": "stream",
     "text": [
      "C:\\Users\\deepa\\anaconda3\\lib\\site-packages\\pydub\\utils.py:170: RuntimeWarning: Couldn't find ffmpeg or avconv - defaulting to ffmpeg, but may not work\n",
      "  warn(\"Couldn't find ffmpeg or avconv - defaulting to ffmpeg, but may not work\", RuntimeWarning)\n"
     ]
    }
   ],
   "source": [
    "import librosa\n",
    "import numpy as np\n",
    "import matplotlib.pyplot as plt\n",
    "from pydub import AudioSegment"
   ]
  },
  {
   "cell_type": "code",
   "execution_count": 5,
   "id": "9cbe3f92",
   "metadata": {},
   "outputs": [],
   "source": [
    "def eucl_dist(vec1, vec2):\n",
    "    minn_length = min(vec1.shape[1], vec2.shape[1])\n",
    "    if vec1.shape[1] < vec2.shape[1]: \n",
    "        vec2 = vec2[:,:minn_length]\n",
    "    else: \n",
    "        vec1 = vec1[:,:minn_length]\n",
    "    return np.linalg.norm(vec1-vec2)\n",
    "\n",
    "def cosine_sim(vec1,vec2):\n",
    "    minn_length = min(vec1.shape[1], vec2.shape[1])\n",
    "    if vec1.shape[1] < vec2.shape[1]: \n",
    "        vec2 = vec2[:,:minn_length]\n",
    "    else: \n",
    "        vec1 = vec1[:,:minn_length]\n",
    "    vec1 = vec1.flatten()\n",
    "    vec2 = vec2.flatten()\n",
    "    cs_sim = np.dot(vec1,vec2)/(np.linalg.norm(vec1)*np.linalg.norm(vec2))\n",
    "    return cs_sim"
   ]
  },
  {
   "cell_type": "code",
   "execution_count": 6,
   "id": "b1feac6b",
   "metadata": {},
   "outputs": [],
   "source": [
    "# PROPERTY OF DEEPMIND1234\n",
    "def extract_features(file_path):\n",
    "    # Load the audio file\n",
    "    y, sr = librosa.load(file_path, sr=22050)\n",
    "\n",
    "    # Extract the MFCC features\n",
    "    mfcc = librosa.feature.mfcc(y=y, sr=sr, n_mfcc=13)\n",
    "\n",
    "    # Extract the chroma features\n",
    "    chroma = librosa.feature.chroma_cqt(y=y, sr=sr)\n",
    "\n",
    "    # Extract the spectral contrast features\n",
    "    contrast = librosa.feature.spectral_contrast(y=y, sr=sr)\n",
    "    \n",
    "    spectral_centroid = librosa.feature.spectral_centroid(y=y, sr=sr)\n",
    "    zero_crossing_rate = librosa.feature.zero_crossing_rate(y)\n",
    "    spec_bandwidth = librosa.feature.spectral_bandwidth(y=y, sr=sr)\n",
    "    \n",
    "    # Concatenate the features into a single array\n",
    "    #features = np.concatenate([mfcc, chroma, contrast, spectral_centroid, zero_crossing_rate], axis=0)\n",
    "    features = np.concatenate([mfcc,chroma,contrast,spectral_centroid,zero_crossing_rate, spec_bandwidth], axis=0)\n",
    "\n",
    "    return features"
   ]
  },
  {
   "cell_type": "code",
   "execution_count": 7,
   "id": "ffce2762",
   "metadata": {},
   "outputs": [
    {
     "name": "stderr",
     "output_type": "stream",
     "text": [
      "C:\\Users\\deepa\\anaconda3\\lib\\site-packages\\librosa\\util\\decorators.py:88: UserWarning: n_fft=1024 is too small for input signal of length=1015\n",
      "  return f(*args, **kwargs)\n"
     ]
    }
   ],
   "source": [
    "features_d = extract_features('media/deepak_test_1.wav')\n",
    "features_a = extract_features('media/aadarsh_test_1.wav')\n",
    "features_s = extract_features('media/sean_test_1.wav')\n",
    "features_ta = extract_features('media/test_vector.wav')"
   ]
  },
  {
   "cell_type": "code",
   "execution_count": 8,
   "id": "f40ce85c",
   "metadata": {},
   "outputs": [
    {
     "name": "stdout",
     "output_type": "stream",
     "text": [
      "12053.565439607575\n",
      "14103.502609334624\n",
      "16035.969697392145\n"
     ]
    }
   ],
   "source": [
    "print(eucl_dist(features_d, features_a))\n",
    "print(eucl_dist(features_d, features_s))\n",
    "print(eucl_dist(features_s, features_a))"
   ]
  },
  {
   "cell_type": "code",
   "execution_count": 9,
   "id": "34c96551",
   "metadata": {},
   "outputs": [
    {
     "name": "stdout",
     "output_type": "stream",
     "text": [
      "18596.916229174458\n",
      "19356.916498702696\n",
      "23659.574096291326\n"
     ]
    }
   ],
   "source": [
    "print(eucl_dist(features_d, features_ta))\n",
    "print(eucl_dist(features_a, features_ta))\n",
    "print(eucl_dist(features_s, features_ta))"
   ]
  },
  {
   "cell_type": "code",
   "execution_count": 10,
   "id": "34f59f5e",
   "metadata": {},
   "outputs": [],
   "source": [
    "def NearestNeighbour(test_features,voice_set):\n",
    "    f_min = 10e20\n",
    "    similar = None\n",
    "    for key,value in voice_set.items():\n",
    "        cur_min = eucl_dist(test_features,value)\n",
    "        #cur_min = cosine_sim(test_features,value)\n",
    "        print(str(key) + \":\"+ str(cur_min))\n",
    "        if cur_min < f_min:\n",
    "            f_min = cur_min\n",
    "            similar = key\n",
    "    return similar"
   ]
  },
  {
   "cell_type": "code",
   "execution_count": 12,
   "id": "7ce1a612",
   "metadata": {},
   "outputs": [],
   "source": [
    "feature_dict = {\"deepak\":features_d,\"aadarsh\":features_a,\"sean\":features_s,\"TA\":features_ta}\n",
    "import speech_recognition as sr\n",
    "file_path = 'media/deepak_test_1.wav'\n",
    "r = sr.Recognizer()\n",
    "def recognize_speech(file_path):\n",
    "    with sr.AudioFile(file_path) as source:\n",
    "        audio = r.record(source)\n",
    "    try:\n",
    "        text = r.recognize_google(audio)\n",
    "    except sr.UnknownValueError:\n",
    "        print(\"Google Speech Recognition could not understand audio\")\n",
    "    except sr.RequestError as e:\n",
    "        print(\"Could not request results from Google Speech Recognition service; {0}\".format(e))\n",
    "    return text"
   ]
  },
  {
   "cell_type": "code",
   "execution_count": 13,
   "id": "525abaa2",
   "metadata": {},
   "outputs": [
    {
     "name": "stdout",
     "output_type": "stream",
     "text": [
      "deepak:24316.4523758576\n",
      "aadarsh:21842.77581350192\n",
      "sean:24534.705424865075\n",
      "TA:24019.941095867864\n",
      "aadarsh says testing testing\n"
     ]
    }
   ],
   "source": [
    "feature_d_new = extract_features('media/deepak_inference.wav')\n",
    "detected_speaker = NearestNeighbour(feature_d_new, feature_dict)\n",
    "r_text = recognize_speech('media/deepak_inference.wav')\n",
    "print(f'{detected_speaker} says {r_text}')"
   ]
  },
  {
   "cell_type": "code",
   "execution_count": 14,
   "id": "b72853d7",
   "metadata": {},
   "outputs": [
    {
     "name": "stdout",
     "output_type": "stream",
     "text": [
      "deepak:24706.525365361664\n",
      "aadarsh:21631.604161588373\n",
      "sean:28138.97313845313\n",
      "TA:25688.89313801095\n",
      "aadarsh says testing testing my audio\n"
     ]
    }
   ],
   "source": [
    "feature_a_new = extract_features('media/aadarsh_inference.wav')\n",
    "detected_speaker = NearestNeighbour(feature_a_new, feature_dict)\n",
    "r_text = recognize_speech('media/aadarsh_inference.wav')\n",
    "print(f'{detected_speaker} says {r_text}')"
   ]
  },
  {
   "cell_type": "code",
   "execution_count": null,
   "id": "8543fa4a",
   "metadata": {},
   "outputs": [],
   "source": []
  },
  {
   "cell_type": "code",
   "execution_count": null,
   "id": "5c979715",
   "metadata": {},
   "outputs": [],
   "source": []
  }
 ],
 "metadata": {
  "kernelspec": {
   "display_name": "Python 3 (ipykernel)",
   "language": "python",
   "name": "python3"
  },
  "language_info": {
   "codemirror_mode": {
    "name": "ipython",
    "version": 3
   },
   "file_extension": ".py",
   "mimetype": "text/x-python",
   "name": "python",
   "nbconvert_exporter": "python",
   "pygments_lexer": "ipython3",
   "version": "3.9.7"
  }
 },
 "nbformat": 4,
 "nbformat_minor": 5
}
