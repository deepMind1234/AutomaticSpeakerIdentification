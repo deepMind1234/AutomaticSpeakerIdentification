{
 "cells": [
  {
   "cell_type": "code",
   "execution_count": 80,
   "id": "0bad5bca",
   "metadata": {},
   "outputs": [],
   "source": [
    "import librosa\n",
    "import numpy as np\n",
    "import matplotlib.pyplot as plt\n",
    "from pydub import AudioSegment"
   ]
  },
  {
   "cell_type": "code",
   "execution_count": 81,
   "id": "9cbe3f92",
   "metadata": {},
   "outputs": [],
   "source": [
    "def eucl_dist(vec1, vec2):\n",
    "    minn_length = min(vec1.shape[1], vec2.shape[1])\n",
    "    if vec1.shape[1] < vec2.shape[1]: \n",
    "        vec2 = vec2[:,:minn_length]\n",
    "    else: \n",
    "        vec1 = vec1[:,:minn_length]\n",
    "    return np.linalg.norm(vec1-vec2)"
   ]
  },
  {
   "cell_type": "code",
   "execution_count": 82,
   "id": "b1feac6b",
   "metadata": {},
   "outputs": [],
   "source": [
    "# PROPERTY OF DEEPMIND1234\n",
    "def extract_features(file_path):\n",
    "    # Load the audio file\n",
    "    y, sr = librosa.load(file_path, sr=22050)\n",
    "\n",
    "    # Extract the MFCC features\n",
    "    mfcc = librosa.feature.mfcc(y=y, sr=sr, n_mfcc=13)\n",
    "\n",
    "    # Extract the chroma features\n",
    "    chroma = librosa.feature.chroma_cqt(y=y, sr=sr)\n",
    "\n",
    "    # Extract the spectral contrast features\n",
    "    contrast = librosa.feature.spectral_contrast(y=y, sr=sr)\n",
    "\n",
    "    # Concatenate the features into a single array\n",
    "    features = np.concatenate([mfcc, chroma, contrast], axis=0)\n",
    "\n",
    "    return features"
   ]
  },
  {
   "cell_type": "code",
   "execution_count": 83,
   "id": "ffce2762",
   "metadata": {},
   "outputs": [],
   "source": [
    "features_d = extract_features('media/deepak_test_1.wav')\n",
    "features_a = extract_features('media/aadarsh_test_1.wav')"
   ]
  },
  {
   "cell_type": "code",
   "execution_count": 84,
   "id": "f40ce85c",
   "metadata": {},
   "outputs": [
    {
     "name": "stdout",
     "output_type": "stream",
     "text": [
      "1798.4835678049874\n"
     ]
    }
   ],
   "source": [
    "print(eucl_dist(features_d, features_a))"
   ]
  },
  {
   "cell_type": "code",
   "execution_count": null,
   "id": "34c96551",
   "metadata": {},
   "outputs": [],
   "source": []
  }
 ],
 "metadata": {
  "kernelspec": {
   "display_name": "ECE420",
   "language": "python",
   "name": "ece420"
  },
  "language_info": {
   "codemirror_mode": {
    "name": "ipython",
    "version": 3
   },
   "file_extension": ".py",
   "mimetype": "text/x-python",
   "name": "python",
   "nbconvert_exporter": "python",
   "pygments_lexer": "ipython3",
   "version": "3.8.2"
  }
 },
 "nbformat": 4,
 "nbformat_minor": 5
}
