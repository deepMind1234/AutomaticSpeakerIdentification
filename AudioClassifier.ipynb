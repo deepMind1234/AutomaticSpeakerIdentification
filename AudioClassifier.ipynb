{
 "cells": [
  {
   "cell_type": "code",
   "execution_count": 3,
   "id": "0bad5bca",
   "metadata": {},
   "outputs": [],
   "source": [
    "import librosa\n",
    "import numpy as np\n",
    "import matplotlib.pyplot as plt\n",
    "from pydub import AudioSegment"
   ]
  },
  {
   "cell_type": "code",
   "execution_count": 4,
   "id": "9cbe3f92",
   "metadata": {},
   "outputs": [],
   "source": [
    "def eucl_dist(vec1, vec2):\n",
    "    minn_length = min(vec1.shape[1], vec2.shape[1])\n",
    "    if vec1.shape[1] < vec2.shape[1]: \n",
    "        vec2 = vec2[:,:minn_length]\n",
    "    else: \n",
    "        vec1 = vec1[:,:minn_length]\n",
    "    return np.linalg.norm(vec1-vec2)"
   ]
  },
  {
   "cell_type": "code",
   "execution_count": 16,
   "id": "b1feac6b",
   "metadata": {},
   "outputs": [],
   "source": [
    "# PROPERTY OF DEEPMIND1234\n",
    "def extract_features(file_path):\n",
    "    # Load the audio file\n",
    "    y, sr = librosa.load(file_path, sr=22050)\n",
    "\n",
    "    # Extract the MFCC features\n",
    "    mfcc = librosa.feature.mfcc(y=y, sr=sr, n_mfcc=13)\n",
    "\n",
    "    # Extract the chroma features\n",
    "    chroma = librosa.feature.chroma_cqt(y=y, sr=sr)\n",
    "\n",
    "    # Extract the spectral contrast features\n",
    "    contrast = librosa.feature.spectral_contrast(y=y, sr=sr)\n",
    "\n",
    "    # Concatenate the features into a single array\n",
    "    features = np.concatenate([mfcc, chroma, contrast], axis=0)\n",
    "\n",
    "    return features"
   ]
  },
  {
   "cell_type": "code",
   "execution_count": 24,
   "id": "ffce2762",
   "metadata": {},
   "outputs": [],
   "source": [
    "features_d = extract_features('media/deepak_test_1.wav')\n",
    "features_a = extract_features('media/aadarsh_test_1.wav')\n",
    "features_s = extract_features('media/sean_test_1.wav')\n",
    "features_ta = extract_features('media/test_vector.wav')"
   ]
  },
  {
   "cell_type": "code",
   "execution_count": 26,
   "id": "f40ce85c",
   "metadata": {},
   "outputs": [
    {
     "name": "stdout",
     "output_type": "stream",
     "text": [
      "1798.4835678049874\n",
      "1884.2936605450861\n",
      "1556.6665932492106\n"
     ]
    }
   ],
   "source": [
    "print(eucl_dist(features_d, features_a))\n",
    "print(eucl_dist(features_d, features_s))\n",
    "print(eucl_dist(features_s, features_a))"
   ]
  },
  {
   "cell_type": "code",
   "execution_count": 25,
   "id": "34c96551",
   "metadata": {},
   "outputs": [
    {
     "name": "stdout",
     "output_type": "stream",
     "text": [
      "2442.5959027852955\n",
      "2189.013501486318\n",
      "2005.0505213918545\n"
     ]
    }
   ],
   "source": [
    "print(eucl_dist(features_d, features_ta))\n",
    "print(eucl_dist(features_a, features_ta))\n",
    "print(eucl_dist(features_s, features_ta))"
   ]
  },
  {
   "cell_type": "code",
   "execution_count": null,
   "id": "85334493",
   "metadata": {},
   "outputs": [],
   "source": []
  }
 ],
 "metadata": {
  "kernelspec": {
   "display_name": "ECE420",
   "language": "python",
   "name": "ece420"
  },
  "language_info": {
   "codemirror_mode": {
    "name": "ipython",
    "version": 3
   },
   "file_extension": ".py",
   "mimetype": "text/x-python",
   "name": "python",
   "nbconvert_exporter": "python",
   "pygments_lexer": "ipython3",
   "version": "3.8.2"
  }
 },
 "nbformat": 4,
 "nbformat_minor": 5
}
